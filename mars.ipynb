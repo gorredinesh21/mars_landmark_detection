{
  "nbformat": 4,
  "nbformat_minor": 0,
  "metadata": {
    "colab": {
      "provenance": [],
      "gpuType": "T4"
    },
    "kernelspec": {
      "name": "python3",
      "display_name": "Python 3"
    },
    "language_info": {
      "name": "python"
    },
    "accelerator": "GPU"
  },
  "cells": [
    {
      "cell_type": "code",
      "source": [
        "from google.colab import drive\n",
        "drive.mount('/content/drive')"
      ],
      "metadata": {
        "colab": {
          "base_uri": "https://localhost:8080/"
        },
        "id": "Mg3jjqqg3B9C",
        "outputId": "e46eec66-0912-48f4-b91f-bdde13d0e22f"
      },
      "execution_count": null,
      "outputs": [
        {
          "output_type": "stream",
          "name": "stdout",
          "text": [
            "Drive already mounted at /content/drive; to attempt to forcibly remount, call drive.mount(\"/content/drive\", force_remount=True).\n"
          ]
        }
      ]
    },
    {
      "cell_type": "code",
      "source": [
        "import numpy as np\n",
        "import pandas as pd\n",
        "import matplotlib.pyplot as plt\n",
        "%matplotlib inline\n",
        "import seaborn as sns\n",
        "import tensorflow as tf\n",
        "from tensorflow import keras"
      ],
      "metadata": {
        "id": "mJEXJeKq3DO1"
      },
      "execution_count": null,
      "outputs": []
    },
    {
      "cell_type": "code",
      "source": [
        "train_df=pd.read_csv('/content/drive/My Drive/AI_OF_GOD/train.csv')"
      ],
      "metadata": {
        "id": "uk6cUv_L4RJ7"
      },
      "execution_count": null,
      "outputs": []
    },
    {
      "cell_type": "code",
      "source": [
        "train_df"
      ],
      "metadata": {
        "colab": {
          "base_uri": "https://localhost:8080/",
          "height": 424
        },
        "id": "uhuRaCEr4j20",
        "outputId": "0f4647d5-2e7a-4848-e9b0-8526deb45600"
      },
      "execution_count": null,
      "outputs": [
        {
          "output_type": "execute_result",
          "data": {
            "text/plain": [
              "      FileName  Class\n",
              "0        1.jpg      0\n",
              "1        2.jpg      0\n",
              "2        3.jpg      0\n",
              "3        4.jpg      0\n",
              "4        5.jpg      0\n",
              "...        ...    ...\n",
              "8196  8197.jpg      0\n",
              "8197  8198.jpg      0\n",
              "8198  8199.jpg      0\n",
              "8199  8200.jpg      0\n",
              "8200  8201.jpg      0\n",
              "\n",
              "[8201 rows x 2 columns]"
            ],
            "text/html": [
              "\n",
              "  <div id=\"df-7fb2ebab-2121-4e69-9556-9655ef0d01ab\" class=\"colab-df-container\">\n",
              "    <div>\n",
              "<style scoped>\n",
              "    .dataframe tbody tr th:only-of-type {\n",
              "        vertical-align: middle;\n",
              "    }\n",
              "\n",
              "    .dataframe tbody tr th {\n",
              "        vertical-align: top;\n",
              "    }\n",
              "\n",
              "    .dataframe thead th {\n",
              "        text-align: right;\n",
              "    }\n",
              "</style>\n",
              "<table border=\"1\" class=\"dataframe\">\n",
              "  <thead>\n",
              "    <tr style=\"text-align: right;\">\n",
              "      <th></th>\n",
              "      <th>FileName</th>\n",
              "      <th>Class</th>\n",
              "    </tr>\n",
              "  </thead>\n",
              "  <tbody>\n",
              "    <tr>\n",
              "      <th>0</th>\n",
              "      <td>1.jpg</td>\n",
              "      <td>0</td>\n",
              "    </tr>\n",
              "    <tr>\n",
              "      <th>1</th>\n",
              "      <td>2.jpg</td>\n",
              "      <td>0</td>\n",
              "    </tr>\n",
              "    <tr>\n",
              "      <th>2</th>\n",
              "      <td>3.jpg</td>\n",
              "      <td>0</td>\n",
              "    </tr>\n",
              "    <tr>\n",
              "      <th>3</th>\n",
              "      <td>4.jpg</td>\n",
              "      <td>0</td>\n",
              "    </tr>\n",
              "    <tr>\n",
              "      <th>4</th>\n",
              "      <td>5.jpg</td>\n",
              "      <td>0</td>\n",
              "    </tr>\n",
              "    <tr>\n",
              "      <th>...</th>\n",
              "      <td>...</td>\n",
              "      <td>...</td>\n",
              "    </tr>\n",
              "    <tr>\n",
              "      <th>8196</th>\n",
              "      <td>8197.jpg</td>\n",
              "      <td>0</td>\n",
              "    </tr>\n",
              "    <tr>\n",
              "      <th>8197</th>\n",
              "      <td>8198.jpg</td>\n",
              "      <td>0</td>\n",
              "    </tr>\n",
              "    <tr>\n",
              "      <th>8198</th>\n",
              "      <td>8199.jpg</td>\n",
              "      <td>0</td>\n",
              "    </tr>\n",
              "    <tr>\n",
              "      <th>8199</th>\n",
              "      <td>8200.jpg</td>\n",
              "      <td>0</td>\n",
              "    </tr>\n",
              "    <tr>\n",
              "      <th>8200</th>\n",
              "      <td>8201.jpg</td>\n",
              "      <td>0</td>\n",
              "    </tr>\n",
              "  </tbody>\n",
              "</table>\n",
              "<p>8201 rows × 2 columns</p>\n",
              "</div>\n",
              "    <div class=\"colab-df-buttons\">\n",
              "\n",
              "  <div class=\"colab-df-container\">\n",
              "    <button class=\"colab-df-convert\" onclick=\"convertToInteractive('df-7fb2ebab-2121-4e69-9556-9655ef0d01ab')\"\n",
              "            title=\"Convert this dataframe to an interactive table.\"\n",
              "            style=\"display:none;\">\n",
              "\n",
              "  <svg xmlns=\"http://www.w3.org/2000/svg\" height=\"24px\" viewBox=\"0 -960 960 960\">\n",
              "    <path d=\"M120-120v-720h720v720H120Zm60-500h600v-160H180v160Zm220 220h160v-160H400v160Zm0 220h160v-160H400v160ZM180-400h160v-160H180v160Zm440 0h160v-160H620v160ZM180-180h160v-160H180v160Zm440 0h160v-160H620v160Z\"/>\n",
              "  </svg>\n",
              "    </button>\n",
              "\n",
              "  <style>\n",
              "    .colab-df-container {\n",
              "      display:flex;\n",
              "      gap: 12px;\n",
              "    }\n",
              "\n",
              "    .colab-df-convert {\n",
              "      background-color: #E8F0FE;\n",
              "      border: none;\n",
              "      border-radius: 50%;\n",
              "      cursor: pointer;\n",
              "      display: none;\n",
              "      fill: #1967D2;\n",
              "      height: 32px;\n",
              "      padding: 0 0 0 0;\n",
              "      width: 32px;\n",
              "    }\n",
              "\n",
              "    .colab-df-convert:hover {\n",
              "      background-color: #E2EBFA;\n",
              "      box-shadow: 0px 1px 2px rgba(60, 64, 67, 0.3), 0px 1px 3px 1px rgba(60, 64, 67, 0.15);\n",
              "      fill: #174EA6;\n",
              "    }\n",
              "\n",
              "    .colab-df-buttons div {\n",
              "      margin-bottom: 4px;\n",
              "    }\n",
              "\n",
              "    [theme=dark] .colab-df-convert {\n",
              "      background-color: #3B4455;\n",
              "      fill: #D2E3FC;\n",
              "    }\n",
              "\n",
              "    [theme=dark] .colab-df-convert:hover {\n",
              "      background-color: #434B5C;\n",
              "      box-shadow: 0px 1px 3px 1px rgba(0, 0, 0, 0.15);\n",
              "      filter: drop-shadow(0px 1px 2px rgba(0, 0, 0, 0.3));\n",
              "      fill: #FFFFFF;\n",
              "    }\n",
              "  </style>\n",
              "\n",
              "    <script>\n",
              "      const buttonEl =\n",
              "        document.querySelector('#df-7fb2ebab-2121-4e69-9556-9655ef0d01ab button.colab-df-convert');\n",
              "      buttonEl.style.display =\n",
              "        google.colab.kernel.accessAllowed ? 'block' : 'none';\n",
              "\n",
              "      async function convertToInteractive(key) {\n",
              "        const element = document.querySelector('#df-7fb2ebab-2121-4e69-9556-9655ef0d01ab');\n",
              "        const dataTable =\n",
              "          await google.colab.kernel.invokeFunction('convertToInteractive',\n",
              "                                                    [key], {});\n",
              "        if (!dataTable) return;\n",
              "\n",
              "        const docLinkHtml = 'Like what you see? Visit the ' +\n",
              "          '<a target=\"_blank\" href=https://colab.research.google.com/notebooks/data_table.ipynb>data table notebook</a>'\n",
              "          + ' to learn more about interactive tables.';\n",
              "        element.innerHTML = '';\n",
              "        dataTable['output_type'] = 'display_data';\n",
              "        await google.colab.output.renderOutput(dataTable, element);\n",
              "        const docLink = document.createElement('div');\n",
              "        docLink.innerHTML = docLinkHtml;\n",
              "        element.appendChild(docLink);\n",
              "      }\n",
              "    </script>\n",
              "  </div>\n",
              "\n",
              "\n",
              "<div id=\"df-8495c46f-fdc9-4fa7-94fe-25c1e4618f74\">\n",
              "  <button class=\"colab-df-quickchart\" onclick=\"quickchart('df-8495c46f-fdc9-4fa7-94fe-25c1e4618f74')\"\n",
              "            title=\"Suggest charts\"\n",
              "            style=\"display:none;\">\n",
              "\n",
              "<svg xmlns=\"http://www.w3.org/2000/svg\" height=\"24px\"viewBox=\"0 0 24 24\"\n",
              "     width=\"24px\">\n",
              "    <g>\n",
              "        <path d=\"M19 3H5c-1.1 0-2 .9-2 2v14c0 1.1.9 2 2 2h14c1.1 0 2-.9 2-2V5c0-1.1-.9-2-2-2zM9 17H7v-7h2v7zm4 0h-2V7h2v10zm4 0h-2v-4h2v4z\"/>\n",
              "    </g>\n",
              "</svg>\n",
              "  </button>\n",
              "\n",
              "<style>\n",
              "  .colab-df-quickchart {\n",
              "      --bg-color: #E8F0FE;\n",
              "      --fill-color: #1967D2;\n",
              "      --hover-bg-color: #E2EBFA;\n",
              "      --hover-fill-color: #174EA6;\n",
              "      --disabled-fill-color: #AAA;\n",
              "      --disabled-bg-color: #DDD;\n",
              "  }\n",
              "\n",
              "  [theme=dark] .colab-df-quickchart {\n",
              "      --bg-color: #3B4455;\n",
              "      --fill-color: #D2E3FC;\n",
              "      --hover-bg-color: #434B5C;\n",
              "      --hover-fill-color: #FFFFFF;\n",
              "      --disabled-bg-color: #3B4455;\n",
              "      --disabled-fill-color: #666;\n",
              "  }\n",
              "\n",
              "  .colab-df-quickchart {\n",
              "    background-color: var(--bg-color);\n",
              "    border: none;\n",
              "    border-radius: 50%;\n",
              "    cursor: pointer;\n",
              "    display: none;\n",
              "    fill: var(--fill-color);\n",
              "    height: 32px;\n",
              "    padding: 0;\n",
              "    width: 32px;\n",
              "  }\n",
              "\n",
              "  .colab-df-quickchart:hover {\n",
              "    background-color: var(--hover-bg-color);\n",
              "    box-shadow: 0 1px 2px rgba(60, 64, 67, 0.3), 0 1px 3px 1px rgba(60, 64, 67, 0.15);\n",
              "    fill: var(--button-hover-fill-color);\n",
              "  }\n",
              "\n",
              "  .colab-df-quickchart-complete:disabled,\n",
              "  .colab-df-quickchart-complete:disabled:hover {\n",
              "    background-color: var(--disabled-bg-color);\n",
              "    fill: var(--disabled-fill-color);\n",
              "    box-shadow: none;\n",
              "  }\n",
              "\n",
              "  .colab-df-spinner {\n",
              "    border: 2px solid var(--fill-color);\n",
              "    border-color: transparent;\n",
              "    border-bottom-color: var(--fill-color);\n",
              "    animation:\n",
              "      spin 1s steps(1) infinite;\n",
              "  }\n",
              "\n",
              "  @keyframes spin {\n",
              "    0% {\n",
              "      border-color: transparent;\n",
              "      border-bottom-color: var(--fill-color);\n",
              "      border-left-color: var(--fill-color);\n",
              "    }\n",
              "    20% {\n",
              "      border-color: transparent;\n",
              "      border-left-color: var(--fill-color);\n",
              "      border-top-color: var(--fill-color);\n",
              "    }\n",
              "    30% {\n",
              "      border-color: transparent;\n",
              "      border-left-color: var(--fill-color);\n",
              "      border-top-color: var(--fill-color);\n",
              "      border-right-color: var(--fill-color);\n",
              "    }\n",
              "    40% {\n",
              "      border-color: transparent;\n",
              "      border-right-color: var(--fill-color);\n",
              "      border-top-color: var(--fill-color);\n",
              "    }\n",
              "    60% {\n",
              "      border-color: transparent;\n",
              "      border-right-color: var(--fill-color);\n",
              "    }\n",
              "    80% {\n",
              "      border-color: transparent;\n",
              "      border-right-color: var(--fill-color);\n",
              "      border-bottom-color: var(--fill-color);\n",
              "    }\n",
              "    90% {\n",
              "      border-color: transparent;\n",
              "      border-bottom-color: var(--fill-color);\n",
              "    }\n",
              "  }\n",
              "</style>\n",
              "\n",
              "  <script>\n",
              "    async function quickchart(key) {\n",
              "      const quickchartButtonEl =\n",
              "        document.querySelector('#' + key + ' button');\n",
              "      quickchartButtonEl.disabled = true;  // To prevent multiple clicks.\n",
              "      quickchartButtonEl.classList.add('colab-df-spinner');\n",
              "      try {\n",
              "        const charts = await google.colab.kernel.invokeFunction(\n",
              "            'suggestCharts', [key], {});\n",
              "      } catch (error) {\n",
              "        console.error('Error during call to suggestCharts:', error);\n",
              "      }\n",
              "      quickchartButtonEl.classList.remove('colab-df-spinner');\n",
              "      quickchartButtonEl.classList.add('colab-df-quickchart-complete');\n",
              "    }\n",
              "    (() => {\n",
              "      let quickchartButtonEl =\n",
              "        document.querySelector('#df-8495c46f-fdc9-4fa7-94fe-25c1e4618f74 button');\n",
              "      quickchartButtonEl.style.display =\n",
              "        google.colab.kernel.accessAllowed ? 'block' : 'none';\n",
              "    })();\n",
              "  </script>\n",
              "</div>\n",
              "    </div>\n",
              "  </div>\n"
            ],
            "application/vnd.google.colaboratory.intrinsic+json": {
              "type": "dataframe",
              "variable_name": "train_df",
              "summary": "{\n  \"name\": \"train_df\",\n  \"rows\": 8201,\n  \"fields\": [\n    {\n      \"column\": \"FileName\",\n      \"properties\": {\n        \"dtype\": \"string\",\n        \"num_unique_values\": 8201,\n        \"samples\": [\n          \"3568.jpg\",\n          \"1323.jpg\",\n          \"7758.jpg\"\n        ],\n        \"semantic_type\": \"\",\n        \"description\": \"\"\n      }\n    },\n    {\n      \"column\": \"Class\",\n      \"properties\": {\n        \"dtype\": \"number\",\n        \"std\": 1,\n        \"min\": 0,\n        \"max\": 7,\n        \"num_unique_values\": 8,\n        \"samples\": [\n          1,\n          2,\n          0\n        ],\n        \"semantic_type\": \"\",\n        \"description\": \"\"\n      }\n    }\n  ]\n}"
            }
          },
          "metadata": {},
          "execution_count": 4
        }
      ]
    },
    {
      "cell_type": "code",
      "source": [
        "train_df.shape"
      ],
      "metadata": {
        "colab": {
          "base_uri": "https://localhost:8080/"
        },
        "id": "nPPOECYE4mJ0",
        "outputId": "baa22829-86dd-47b1-8e64-942d959ec439"
      },
      "execution_count": null,
      "outputs": [
        {
          "output_type": "execute_result",
          "data": {
            "text/plain": [
              "(8201, 2)"
            ]
          },
          "metadata": {},
          "execution_count": 5
        }
      ]
    },
    {
      "cell_type": "code",
      "source": [
        "train_df.Class.value_counts()"
      ],
      "metadata": {
        "colab": {
          "base_uri": "https://localhost:8080/"
        },
        "id": "wz6jj1HG4wuY",
        "outputId": "85e4efb0-8a39-4a0e-b6c2-fe95040e43da"
      },
      "execution_count": null,
      "outputs": [
        {
          "output_type": "execute_result",
          "data": {
            "text/plain": [
              "0    4829\n",
              "1    1405\n",
              "4     789\n",
              "3     443\n",
              "6     295\n",
              "2     285\n",
              "7      87\n",
              "5      68\n",
              "Name: Class, dtype: int64"
            ]
          },
          "metadata": {},
          "execution_count": 6
        }
      ]
    },
    {
      "cell_type": "code",
      "source": [
        "df2 = train_df.sample(n=2000, random_state=42)"
      ],
      "metadata": {
        "id": "vvUpWU-CJMIF"
      },
      "execution_count": null,
      "outputs": []
    },
    {
      "cell_type": "code",
      "source": [
        "import os\n",
        "import cv2"
      ],
      "metadata": {
        "id": "s71u_eb741Hb"
      },
      "execution_count": null,
      "outputs": []
    },
    {
      "cell_type": "code",
      "source": [
        "\n",
        "\n",
        "# Path to the folder containing images\n",
        "image_folder = '/content/drive/My Drive/AI_OF_GOD/train/'\n",
        "\n",
        "# Create empty lists to store image arrays, filenames, and classes\n",
        "image_arrays = []\n",
        "filenames = []\n",
        "classes = []\n"
      ],
      "metadata": {
        "id": "G0knraDM45bb"
      },
      "execution_count": null,
      "outputs": []
    },
    {
      "cell_type": "code",
      "source": [
        "# Loop through the DataFrame and read/convert each image\n",
        "for index, row in df2.iterrows():\n",
        "    filename = row['FileName']\n",
        "    class_label = row['Class']\n",
        "    image_path = os.path.join(image_folder, filename)\n",
        "\n",
        "    # Read the image using OpenCV\n",
        "    img = cv2.imread(image_path)\n",
        "\n",
        "    # Convert BGR to RGB (OpenCV loads images in BGR by default)\n",
        "    img = cv2.cvtColor(img, cv2.COLOR_BGR2RGB)\n",
        "\n",
        "    # Append the image array, filename, and class to the respective lists\n",
        "    image_arrays.append(img)\n",
        "    filenames.append(filename)\n",
        "    classes.append(class_label)\n",
        "\n"
      ],
      "metadata": {
        "id": "gt2SqcMm5PIf"
      },
      "execution_count": null,
      "outputs": []
    },
    {
      "cell_type": "code",
      "source": [
        "image_arrays = np.array(image_arrays)"
      ],
      "metadata": {
        "id": "JlUive7C6ti_"
      },
      "execution_count": null,
      "outputs": []
    },
    {
      "cell_type": "code",
      "source": [
        "classes=np.array(classes)"
      ],
      "metadata": {
        "id": "f20VYk09GNNV"
      },
      "execution_count": null,
      "outputs": []
    },
    {
      "cell_type": "code",
      "source": [
        "image_arrays.shape"
      ],
      "metadata": {
        "colab": {
          "base_uri": "https://localhost:8080/"
        },
        "id": "rxdVBtVKHBFp",
        "outputId": "65813ee0-3233-42d5-fa32-f8c7d38180fb"
      },
      "execution_count": null,
      "outputs": [
        {
          "output_type": "execute_result",
          "data": {
            "text/plain": [
              "(2000, 227, 227, 3)"
            ]
          },
          "metadata": {},
          "execution_count": 13
        }
      ]
    },
    {
      "cell_type": "code",
      "source": [
        "#flattened_images_array = image_arrays.reshape(image_arrays.shape[0], -1)\n",
        "#df = pd.DataFrame({'names':filenames,'imgs': flattened_images_array.tolist(), 'lables': classes.tolist()})"
      ],
      "metadata": {
        "id": "-KaUj9A9HRu9"
      },
      "execution_count": null,
      "outputs": []
    },
    {
      "cell_type": "code",
      "source": [
        "image_arrays[0]"
      ],
      "metadata": {
        "colab": {
          "base_uri": "https://localhost:8080/",
          "height": 268
        },
        "id": "f71fPVtvGV4R",
        "outputId": "6594a4c2-74b4-4a76-903d-06d9d9c43448"
      },
      "execution_count": null,
      "outputs": [
        {
          "output_type": "execute_result",
          "data": {
            "text/plain": [
              "array([[[173, 173, 173],\n",
              "        [176, 176, 176],\n",
              "        [178, 178, 178],\n",
              "        ...,\n",
              "        [164, 164, 164],\n",
              "        [165, 165, 165],\n",
              "        [167, 167, 167]],\n",
              "\n",
              "       [[172, 172, 172],\n",
              "        [175, 175, 175],\n",
              "        [178, 178, 178],\n",
              "        ...,\n",
              "        [164, 164, 164],\n",
              "        [166, 166, 166],\n",
              "        [168, 168, 168]],\n",
              "\n",
              "       [[173, 173, 173],\n",
              "        [175, 175, 175],\n",
              "        [179, 179, 179],\n",
              "        ...,\n",
              "        [161, 161, 161],\n",
              "        [164, 164, 164],\n",
              "        [167, 167, 167]],\n",
              "\n",
              "       ...,\n",
              "\n",
              "       [[183, 183, 183],\n",
              "        [171, 171, 171],\n",
              "        [130, 130, 130],\n",
              "        ...,\n",
              "        [183, 183, 183],\n",
              "        [195, 195, 195],\n",
              "        [207, 207, 207]],\n",
              "\n",
              "       [[160, 160, 160],\n",
              "        [119, 119, 119],\n",
              "        [ 89,  89,  89],\n",
              "        ...,\n",
              "        [187, 187, 187],\n",
              "        [200, 200, 200],\n",
              "        [215, 215, 215]],\n",
              "\n",
              "       [[125, 125, 125],\n",
              "        [ 90,  90,  90],\n",
              "        [ 94,  94,  94],\n",
              "        ...,\n",
              "        [188, 188, 188],\n",
              "        [203, 203, 203],\n",
              "        [220, 220, 220]]], dtype=uint8)"
            ],
            "text/html": [
              "<style>\n",
              "      .ndarray_repr .ndarray_raw_data {\n",
              "        display: none;\n",
              "      }\n",
              "      .ndarray_repr.show_array .ndarray_raw_data {\n",
              "        display: block;\n",
              "      }\n",
              "      .ndarray_repr.show_array .ndarray_image_preview {\n",
              "        display: none;\n",
              "      }\n",
              "      </style>\n",
              "      <div id=\"id-c50b4dc7-7198-4f16-9c7e-d5f389b51596\" class=\"ndarray_repr\"><pre>ndarray (227, 227, 3) <button style=\"padding: 0 2px;\">show data</button></pre><img src=\"data:image/png;base64,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\" class=\"ndarray_image_preview\" /><pre class=\"ndarray_raw_data\">array([[[173, 173, 173],\n",
              "        [176, 176, 176],\n",
              "        [178, 178, 178],\n",
              "        ...,\n",
              "        [164, 164, 164],\n",
              "        [165, 165, 165],\n",
              "        [167, 167, 167]],\n",
              "\n",
              "       [[172, 172, 172],\n",
              "        [175, 175, 175],\n",
              "        [178, 178, 178],\n",
              "        ...,\n",
              "        [164, 164, 164],\n",
              "        [166, 166, 166],\n",
              "        [168, 168, 168]],\n",
              "\n",
              "       [[173, 173, 173],\n",
              "        [175, 175, 175],\n",
              "        [179, 179, 179],\n",
              "        ...,\n",
              "        [161, 161, 161],\n",
              "        [164, 164, 164],\n",
              "        [167, 167, 167]],\n",
              "\n",
              "       ...,\n",
              "\n",
              "       [[183, 183, 183],\n",
              "        [171, 171, 171],\n",
              "        [130, 130, 130],\n",
              "        ...,\n",
              "        [183, 183, 183],\n",
              "        [195, 195, 195],\n",
              "        [207, 207, 207]],\n",
              "\n",
              "       [[160, 160, 160],\n",
              "        [119, 119, 119],\n",
              "        [ 89,  89,  89],\n",
              "        ...,\n",
              "        [187, 187, 187],\n",
              "        [200, 200, 200],\n",
              "        [215, 215, 215]],\n",
              "\n",
              "       [[125, 125, 125],\n",
              "        [ 90,  90,  90],\n",
              "        [ 94,  94,  94],\n",
              "        ...,\n",
              "        [188, 188, 188],\n",
              "        [203, 203, 203],\n",
              "        [220, 220, 220]]], dtype=uint8)</pre></div><script>\n",
              "      (() => {\n",
              "      const titles = ['show data', 'hide data'];\n",
              "      let index = 0\n",
              "      document.querySelector('#id-c50b4dc7-7198-4f16-9c7e-d5f389b51596 button').onclick = (e) => {\n",
              "        document.querySelector('#id-c50b4dc7-7198-4f16-9c7e-d5f389b51596').classList.toggle('show_array');\n",
              "        index = (++index) % 2;\n",
              "        document.querySelector('#id-c50b4dc7-7198-4f16-9c7e-d5f389b51596 button').textContent = titles[index];\n",
              "        e.preventDefault();\n",
              "        e.stopPropagation();\n",
              "      }\n",
              "      })();\n",
              "    </script>"
            ]
          },
          "metadata": {},
          "execution_count": 15
        }
      ]
    },
    {
      "cell_type": "code",
      "source": [
        "min_value = np.min(image_arrays)\n",
        "max_value = np.max(image_arrays)\n",
        "\n",
        "print(\"Min value:\", min_value)\n",
        "print(\"Max value:\", max_value)"
      ],
      "metadata": {
        "colab": {
          "base_uri": "https://localhost:8080/"
        },
        "id": "nHP9g0McG7bu",
        "outputId": "1dd05ec8-a3c3-4641-c243-395ac1129de8"
      },
      "execution_count": null,
      "outputs": [
        {
          "output_type": "stream",
          "name": "stdout",
          "text": [
            "Min value: 0\n",
            "Max value: 255\n"
          ]
        }
      ]
    },
    {
      "cell_type": "code",
      "source": [
        "from sklearn.preprocessing import MinMaxScaler\n",
        "# Now, normalized_images will contain your normalized images with values between 0 and 1\n",
        "# It should have a shape of (8201, 227, 227, 3)\n",
        "# Reshape the array to (num_images, num_pixels)\n",
        "num_images, height, width, channels = image_arrays.shape\n",
        "image_arrays_reshaped = image_arrays.reshape(num_images, -1)"
      ],
      "metadata": {
        "id": "Uf1NaDFtJten"
      },
      "execution_count": null,
      "outputs": []
    },
    {
      "cell_type": "code",
      "source": [
        "image_arrays_reshaped.shape"
      ],
      "metadata": {
        "colab": {
          "base_uri": "https://localhost:8080/"
        },
        "id": "O1UJx3-lJ2uK",
        "outputId": "52f229a3-9b72-4c6e-d84c-4c7b3425e0b6"
      },
      "execution_count": null,
      "outputs": [
        {
          "output_type": "execute_result",
          "data": {
            "text/plain": [
              "(2000, 154587)"
            ]
          },
          "metadata": {},
          "execution_count": 18
        }
      ]
    },
    {
      "cell_type": "code",
      "source": [
        "# Create a MinMaxScaler\n",
        "scaler = MinMaxScaler()\n",
        "# Fit the scaler on the flattened data\n",
        "scaler.fit(image_arrays_reshaped)\n"
      ],
      "metadata": {
        "colab": {
          "base_uri": "https://localhost:8080/",
          "height": 75
        },
        "id": "rdXOBx_4J5rm",
        "outputId": "acc25ee5-d91a-4873-b953-659709f040a5"
      },
      "execution_count": null,
      "outputs": [
        {
          "output_type": "execute_result",
          "data": {
            "text/plain": [
              "MinMaxScaler()"
            ],
            "text/html": [
              "<style>#sk-container-id-1 {color: black;background-color: white;}#sk-container-id-1 pre{padding: 0;}#sk-container-id-1 div.sk-toggleable {background-color: white;}#sk-container-id-1 label.sk-toggleable__label {cursor: pointer;display: block;width: 100%;margin-bottom: 0;padding: 0.3em;box-sizing: border-box;text-align: center;}#sk-container-id-1 label.sk-toggleable__label-arrow:before {content: \"▸\";float: left;margin-right: 0.25em;color: #696969;}#sk-container-id-1 label.sk-toggleable__label-arrow:hover:before {color: black;}#sk-container-id-1 div.sk-estimator:hover label.sk-toggleable__label-arrow:before {color: black;}#sk-container-id-1 div.sk-toggleable__content {max-height: 0;max-width: 0;overflow: hidden;text-align: left;background-color: #f0f8ff;}#sk-container-id-1 div.sk-toggleable__content pre {margin: 0.2em;color: black;border-radius: 0.25em;background-color: #f0f8ff;}#sk-container-id-1 input.sk-toggleable__control:checked~div.sk-toggleable__content {max-height: 200px;max-width: 100%;overflow: auto;}#sk-container-id-1 input.sk-toggleable__control:checked~label.sk-toggleable__label-arrow:before {content: \"▾\";}#sk-container-id-1 div.sk-estimator input.sk-toggleable__control:checked~label.sk-toggleable__label {background-color: #d4ebff;}#sk-container-id-1 div.sk-label input.sk-toggleable__control:checked~label.sk-toggleable__label {background-color: #d4ebff;}#sk-container-id-1 input.sk-hidden--visually {border: 0;clip: rect(1px 1px 1px 1px);clip: rect(1px, 1px, 1px, 1px);height: 1px;margin: -1px;overflow: hidden;padding: 0;position: absolute;width: 1px;}#sk-container-id-1 div.sk-estimator {font-family: monospace;background-color: #f0f8ff;border: 1px dotted black;border-radius: 0.25em;box-sizing: border-box;margin-bottom: 0.5em;}#sk-container-id-1 div.sk-estimator:hover {background-color: #d4ebff;}#sk-container-id-1 div.sk-parallel-item::after {content: \"\";width: 100%;border-bottom: 1px solid gray;flex-grow: 1;}#sk-container-id-1 div.sk-label:hover label.sk-toggleable__label {background-color: #d4ebff;}#sk-container-id-1 div.sk-serial::before {content: \"\";position: absolute;border-left: 1px solid gray;box-sizing: border-box;top: 0;bottom: 0;left: 50%;z-index: 0;}#sk-container-id-1 div.sk-serial {display: flex;flex-direction: column;align-items: center;background-color: white;padding-right: 0.2em;padding-left: 0.2em;position: relative;}#sk-container-id-1 div.sk-item {position: relative;z-index: 1;}#sk-container-id-1 div.sk-parallel {display: flex;align-items: stretch;justify-content: center;background-color: white;position: relative;}#sk-container-id-1 div.sk-item::before, #sk-container-id-1 div.sk-parallel-item::before {content: \"\";position: absolute;border-left: 1px solid gray;box-sizing: border-box;top: 0;bottom: 0;left: 50%;z-index: -1;}#sk-container-id-1 div.sk-parallel-item {display: flex;flex-direction: column;z-index: 1;position: relative;background-color: white;}#sk-container-id-1 div.sk-parallel-item:first-child::after {align-self: flex-end;width: 50%;}#sk-container-id-1 div.sk-parallel-item:last-child::after {align-self: flex-start;width: 50%;}#sk-container-id-1 div.sk-parallel-item:only-child::after {width: 0;}#sk-container-id-1 div.sk-dashed-wrapped {border: 1px dashed gray;margin: 0 0.4em 0.5em 0.4em;box-sizing: border-box;padding-bottom: 0.4em;background-color: white;}#sk-container-id-1 div.sk-label label {font-family: monospace;font-weight: bold;display: inline-block;line-height: 1.2em;}#sk-container-id-1 div.sk-label-container {text-align: center;}#sk-container-id-1 div.sk-container {/* jupyter's `normalize.less` sets `[hidden] { display: none; }` but bootstrap.min.css set `[hidden] { display: none !important; }` so we also need the `!important` here to be able to override the default hidden behavior on the sphinx rendered scikit-learn.org. See: https://github.com/scikit-learn/scikit-learn/issues/21755 */display: inline-block !important;position: relative;}#sk-container-id-1 div.sk-text-repr-fallback {display: none;}</style><div id=\"sk-container-id-1\" class=\"sk-top-container\"><div class=\"sk-text-repr-fallback\"><pre>MinMaxScaler()</pre><b>In a Jupyter environment, please rerun this cell to show the HTML representation or trust the notebook. <br />On GitHub, the HTML representation is unable to render, please try loading this page with nbviewer.org.</b></div><div class=\"sk-container\" hidden><div class=\"sk-item\"><div class=\"sk-estimator sk-toggleable\"><input class=\"sk-toggleable__control sk-hidden--visually\" id=\"sk-estimator-id-1\" type=\"checkbox\" checked><label for=\"sk-estimator-id-1\" class=\"sk-toggleable__label sk-toggleable__label-arrow\">MinMaxScaler</label><div class=\"sk-toggleable__content\"><pre>MinMaxScaler()</pre></div></div></div></div></div>"
            ]
          },
          "metadata": {},
          "execution_count": 19
        }
      ]
    },
    {
      "cell_type": "code",
      "source": [
        "# Transform the data to the range [0, 1]\n",
        "normalized_images = scaler.transform(image_arrays_reshaped)"
      ],
      "metadata": {
        "id": "X2MQ47dAKAck"
      },
      "execution_count": null,
      "outputs": []
    },
    {
      "cell_type": "code",
      "source": [
        "\n",
        "# Reshape the normalized data back to the original shape\n",
        "normalized_images = normalized_images.reshape(num_images, height, width, channels)"
      ],
      "metadata": {
        "id": "hjzsIuE0KH6R"
      },
      "execution_count": null,
      "outputs": []
    },
    {
      "cell_type": "code",
      "source": [
        "normalized_images.shape"
      ],
      "metadata": {
        "colab": {
          "base_uri": "https://localhost:8080/"
        },
        "id": "NkhX6erlKKH6",
        "outputId": "caf6c9f9-c79d-434c-c13d-eb61944181bd"
      },
      "execution_count": null,
      "outputs": [
        {
          "output_type": "execute_result",
          "data": {
            "text/plain": [
              "(2000, 227, 227, 3)"
            ]
          },
          "metadata": {},
          "execution_count": 22
        }
      ]
    },
    {
      "cell_type": "code",
      "source": [
        "min1_value = np.min(normalized_images)\n",
        "max1_value = np.max(normalized_images)\n",
        "\n",
        "print(\"Min value:\", min1_value)\n",
        "print(\"Max value:\", max1_value)"
      ],
      "metadata": {
        "colab": {
          "base_uri": "https://localhost:8080/"
        },
        "id": "gt4MzGxFKNnQ",
        "outputId": "b6c199b4-36f5-407f-e2c1-372cc475e52b"
      },
      "execution_count": null,
      "outputs": [
        {
          "output_type": "stream",
          "name": "stdout",
          "text": [
            "Min value: 0.0\n",
            "Max value: 1.0000000000000002\n"
          ]
        }
      ]
    },
    {
      "cell_type": "code",
      "source": [
        "X=normalized_images\n",
        "Y=classes"
      ],
      "metadata": {
        "id": "dz0It57pKdOW"
      },
      "execution_count": null,
      "outputs": []
    },
    {
      "cell_type": "code",
      "source": [
        "X.shape"
      ],
      "metadata": {
        "colab": {
          "base_uri": "https://localhost:8080/"
        },
        "id": "YdV57GPSKrcc",
        "outputId": "cd16c0aa-1e8e-4113-a4ba-e3c8db6be3eb"
      },
      "execution_count": null,
      "outputs": [
        {
          "output_type": "execute_result",
          "data": {
            "text/plain": [
              "(2000, 227, 227, 3)"
            ]
          },
          "metadata": {},
          "execution_count": 25
        }
      ]
    },
    {
      "cell_type": "code",
      "source": [
        "type(X)"
      ],
      "metadata": {
        "colab": {
          "base_uri": "https://localhost:8080/"
        },
        "id": "5jGMfCUEKuxm",
        "outputId": "da7b86ee-7aef-4767-9b29-f55f64e17bb3"
      },
      "execution_count": null,
      "outputs": [
        {
          "output_type": "execute_result",
          "data": {
            "text/plain": [
              "numpy.ndarray"
            ]
          },
          "metadata": {},
          "execution_count": 26
        }
      ]
    },
    {
      "cell_type": "code",
      "source": [
        "type(Y)"
      ],
      "metadata": {
        "colab": {
          "base_uri": "https://localhost:8080/"
        },
        "id": "nCCwk-zkKxSk",
        "outputId": "07a1021f-73ab-496c-c25d-7036113d091d"
      },
      "execution_count": null,
      "outputs": [
        {
          "output_type": "execute_result",
          "data": {
            "text/plain": [
              "numpy.ndarray"
            ]
          },
          "metadata": {},
          "execution_count": 27
        }
      ]
    },
    {
      "cell_type": "code",
      "source": [
        "from sklearn.model_selection import train_test_split\n",
        "X_train, X_test, Y_train, Y_test = train_test_split(X,Y,test_size=0.2)"
      ],
      "metadata": {
        "id": "NuuarkpVKzTu"
      },
      "execution_count": null,
      "outputs": []
    },
    {
      "cell_type": "code",
      "source": [
        "from tensorflow.keras import datasets, layers, models"
      ],
      "metadata": {
        "id": "84RJiaHuK5Dn"
      },
      "execution_count": null,
      "outputs": []
    },
    {
      "cell_type": "code",
      "source": [
        "cnn = models.Sequential([\n",
        "    layers.Conv2D(filters=32, kernel_size=(3, 3), activation='relu', input_shape=(227, 227, 3)),\n",
        "    layers.MaxPooling2D((2, 2)),\n",
        "\n",
        "    layers.Conv2D(filters=64, kernel_size=(3, 3), activation='relu'),\n",
        "    layers.MaxPooling2D((2, 2)),\n",
        "\n",
        "    layers.Conv2D(filters=128, kernel_size=(3, 3), activation='relu'),\n",
        "    layers.MaxPooling2D((2, 2)),\n",
        "\n",
        "    layers.Flatten(input_shape=(227,227,3)),\n",
        "    layers.Dense(64, activation='relu'),\n",
        "    layers.Dense(10, activation='softmax')\n",
        "])"
      ],
      "metadata": {
        "id": "B7dA_KyoK8BT"
      },
      "execution_count": null,
      "outputs": []
    },
    {
      "cell_type": "code",
      "source": [
        "cnn.compile(optimizer='adam',loss='sparse_categorical_crossentropy',metrics=['accuracy'])"
      ],
      "metadata": {
        "id": "mv_n2z5NK_Go"
      },
      "execution_count": null,
      "outputs": []
    },
    {
      "cell_type": "code",
      "source": [
        "cnn.fit(X_train, Y_train, epochs=10)"
      ],
      "metadata": {
        "colab": {
          "base_uri": "https://localhost:8080/"
        },
        "id": "AS9JrAZpLDik",
        "outputId": "e70ccf2f-2b2d-44f2-f4d2-7295bf48de92"
      },
      "execution_count": null,
      "outputs": [
        {
          "output_type": "stream",
          "name": "stdout",
          "text": [
            "Epoch 1/10\n",
            "50/50 [==============================] - 9s 45ms/step - loss: 1.5026 - accuracy: 0.5706\n",
            "Epoch 2/10\n",
            "50/50 [==============================] - 2s 47ms/step - loss: 1.2619 - accuracy: 0.6000\n",
            "Epoch 3/10\n",
            "50/50 [==============================] - 3s 52ms/step - loss: 1.1709 - accuracy: 0.6044\n",
            "Epoch 4/10\n",
            "50/50 [==============================] - 2s 46ms/step - loss: 1.0278 - accuracy: 0.6544\n",
            "Epoch 5/10\n",
            "50/50 [==============================] - 2s 46ms/step - loss: 0.9055 - accuracy: 0.7000\n",
            "Epoch 6/10\n",
            "50/50 [==============================] - 2s 46ms/step - loss: 0.6831 - accuracy: 0.7800\n",
            "Epoch 7/10\n",
            "50/50 [==============================] - 2s 46ms/step - loss: 0.5049 - accuracy: 0.8356\n",
            "Epoch 8/10\n",
            "50/50 [==============================] - 2s 50ms/step - loss: 0.3416 - accuracy: 0.8850\n",
            "Epoch 9/10\n",
            "50/50 [==============================] - 2s 50ms/step - loss: 0.2492 - accuracy: 0.9194\n",
            "Epoch 10/10\n",
            "50/50 [==============================] - 2s 47ms/step - loss: 0.2133 - accuracy: 0.9375\n"
          ]
        },
        {
          "output_type": "execute_result",
          "data": {
            "text/plain": [
              "<keras.src.callbacks.History at 0x7a34440c3df0>"
            ]
          },
          "metadata": {},
          "execution_count": 32
        }
      ]
    },
    {
      "cell_type": "code",
      "source": [
        "cnn.evaluate(X_test,Y_test)"
      ],
      "metadata": {
        "colab": {
          "base_uri": "https://localhost:8080/"
        },
        "id": "KWpgX_yTLGOS",
        "outputId": "59fcc883-b121-4189-b6d6-eb0c5b87f208"
      },
      "execution_count": null,
      "outputs": [
        {
          "output_type": "stream",
          "name": "stdout",
          "text": [
            "13/13 [==============================] - 1s 45ms/step - loss: 1.8535 - accuracy: 0.6525\n"
          ]
        },
        {
          "output_type": "execute_result",
          "data": {
            "text/plain": [
              "[1.8535419702529907, 0.6524999737739563]"
            ]
          },
          "metadata": {},
          "execution_count": 33
        }
      ]
    },
    {
      "cell_type": "code",
      "source": [
        "df3=pd.read_csv('/content/drive/My Drive/AI_OF_GOD/test.csv')"
      ],
      "metadata": {
        "id": "j-ZvTRswQuRJ"
      },
      "execution_count": null,
      "outputs": []
    },
    {
      "cell_type": "code",
      "source": [
        "test_folder='/content/drive/My Drive/AI_OF_GOD/test/'"
      ],
      "metadata": {
        "id": "N3lIiqkVQPuW"
      },
      "execution_count": null,
      "outputs": []
    },
    {
      "cell_type": "code",
      "source": [
        "'''for index, row in df3.iterrows():\n",
        "    filename1 = row['FileName']\n",
        "    image_path1 = os.path.join(image_folder, filename1)\n",
        "\n",
        "    # Read the image using OpenCV\n",
        "    img1 = cv2.imread(image_path1)\n",
        "\n",
        "    # Convert BGR to RGB (OpenCV loads images in BGR by default)\n",
        "    img1 = cv2.cvtColor(img, cv2.COLOR_BGR2RGB)\n",
        "    img1=np.array(img)\n",
        "    img2=img1.reshape(-1)\n",
        "    img3=scaler.transform(img2)\n",
        "    img4=img3.reshape(227,227,3)\n",
        "\n",
        "    # Append the image array, filename, and class to the respective lists\n",
        "    test_image_arrays.append(img)\n",
        "    test_filenames.append(filename)\n",
        "    classes.append(class_label)'''"
      ],
      "metadata": {
        "colab": {
          "base_uri": "https://localhost:8080/",
          "height": 105
        },
        "id": "LKFU8REFLbQA",
        "outputId": "34cb8fcd-274f-4d35-f535-7383d00e2abe"
      },
      "execution_count": null,
      "outputs": [
        {
          "output_type": "execute_result",
          "data": {
            "text/plain": [
              "\"for index, row in df3.iterrows():\\n    filename1 = row['FileName']\\n    image_path1 = os.path.join(image_folder, filename1)\\n\\n    # Read the image using OpenCV\\n    img1 = cv2.imread(image_path1)\\n\\n    # Convert BGR to RGB (OpenCV loads images in BGR by default)\\n    img1 = cv2.cvtColor(img, cv2.COLOR_BGR2RGB)\\n    img1=np.array(img)\\n    img2=img1.reshape(-1)\\n    img3=scaler.transform(img2)\\n    img4=img3.reshape(227,227,3)\\n\\n    # Append the image array, filename, and class to the respective lists\\n    test_image_arrays.append(img)\\n    test_filenames.append(filename)\\n    classes.append(class_label)\""
            ],
            "application/vnd.google.colaboratory.intrinsic+json": {
              "type": "string"
            }
          },
          "metadata": {},
          "execution_count": 36
        }
      ]
    }
  ]
}